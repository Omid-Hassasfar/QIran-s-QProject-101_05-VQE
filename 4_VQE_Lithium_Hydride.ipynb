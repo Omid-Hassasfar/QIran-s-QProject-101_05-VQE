{
  "nbformat": 4,
  "nbformat_minor": 0,
  "metadata": {
    "colab": {
      "provenance": [],
      "authorship_tag": "ABX9TyOmoy4HjGYz+FNZn27PTXMj",
      "include_colab_link": true
    },
    "kernelspec": {
      "name": "python3",
      "display_name": "Python 3"
    },
    "language_info": {
      "name": "python"
    }
  },
  "cells": [
    {
      "cell_type": "markdown",
      "metadata": {
        "id": "view-in-github",
        "colab_type": "text"
      },
      "source": [
        "<a href=\"https://colab.research.google.com/github/Omid-Hassasfar/QIran-s-QProject-101_05-VQE/blob/main/4_VQE_Lithium_Hydride.ipynb\" target=\"_parent\"><img src=\"https://colab.research.google.com/assets/colab-badge.svg\" alt=\"Open In Colab\"/></a>"
      ]
    },
    {
      "cell_type": "code",
      "execution_count": 1,
      "metadata": {
        "colab": {
          "base_uri": "https://localhost:8080/"
        },
        "id": "3ixWOenLpGKL",
        "outputId": "ee84b27a-741d-40fd-ff3a-88c05e72e609"
      },
      "outputs": [
        {
          "output_type": "stream",
          "name": "stdout",
          "text": [
            "Collecting qiskit[visulization]\n",
            "  Downloading qiskit-0.43.2.tar.gz (9.1 kB)\n",
            "  Installing build dependencies ... \u001b[?25l\u001b[?25hdone\n",
            "  Getting requirements to build wheel ... \u001b[?25l\u001b[?25hdone\n",
            "  Installing backend dependencies ... \u001b[?25l\u001b[?25hdone\n",
            "  Preparing metadata (pyproject.toml) ... \u001b[?25l\u001b[?25hdone\n",
            "\u001b[33mWARNING: qiskit 0.43.2 does not provide the extra 'visulization'\u001b[0m\u001b[33m\n",
            "\u001b[0mCollecting qiskit-terra==0.24.1 (from qiskit[visulization])\n",
            "  Downloading qiskit_terra-0.24.1-cp310-cp310-manylinux_2_17_x86_64.manylinux2014_x86_64.whl (5.9 MB)\n",
            "\u001b[2K     \u001b[90m━━━━━━━━━━━━━━━━━━━━━━━━━━━━━━━━━━━━━━━━\u001b[0m \u001b[32m5.9/5.9 MB\u001b[0m \u001b[31m46.9 MB/s\u001b[0m eta \u001b[36m0:00:00\u001b[0m\n",
            "\u001b[?25hCollecting qiskit-aer==0.12.1 (from qiskit[visulization])\n",
            "  Downloading qiskit_aer-0.12.1-cp310-cp310-manylinux_2_17_x86_64.manylinux2014_x86_64.whl (12.8 MB)\n",
            "\u001b[2K     \u001b[90m━━━━━━━━━━━━━━━━━━━━━━━━━━━━━━━━━━━━━━━━\u001b[0m \u001b[32m12.8/12.8 MB\u001b[0m \u001b[31m70.6 MB/s\u001b[0m eta \u001b[36m0:00:00\u001b[0m\n",
            "\u001b[?25hCollecting qiskit-ibmq-provider==0.20.2 (from qiskit[visulization])\n",
            "  Downloading qiskit_ibmq_provider-0.20.2-py3-none-any.whl (241 kB)\n",
            "\u001b[2K     \u001b[90m━━━━━━━━━━━━━━━━━━━━━━━━━━━━━━━━━━━━━━\u001b[0m \u001b[32m241.5/241.5 kB\u001b[0m \u001b[31m28.1 MB/s\u001b[0m eta \u001b[36m0:00:00\u001b[0m\n",
            "\u001b[?25hRequirement already satisfied: numpy>=1.16.3 in /usr/local/lib/python3.10/dist-packages (from qiskit-aer==0.12.1->qiskit[visulization]) (1.22.4)\n",
            "Requirement already satisfied: scipy>=1.0 in /usr/local/lib/python3.10/dist-packages (from qiskit-aer==0.12.1->qiskit[visulization]) (1.10.1)\n",
            "Requirement already satisfied: requests>=2.19 in /usr/local/lib/python3.10/dist-packages (from qiskit-ibmq-provider==0.20.2->qiskit[visulization]) (2.27.1)\n",
            "Collecting requests-ntlm<=1.1.0 (from qiskit-ibmq-provider==0.20.2->qiskit[visulization])\n",
            "  Downloading requests_ntlm-1.1.0-py2.py3-none-any.whl (5.7 kB)\n",
            "Requirement already satisfied: urllib3>=1.21.1 in /usr/local/lib/python3.10/dist-packages (from qiskit-ibmq-provider==0.20.2->qiskit[visulization]) (1.26.16)\n",
            "Requirement already satisfied: python-dateutil>=2.8.0 in /usr/local/lib/python3.10/dist-packages (from qiskit-ibmq-provider==0.20.2->qiskit[visulization]) (2.8.2)\n",
            "Requirement already satisfied: websocket-client>=1.5.1 in /usr/local/lib/python3.10/dist-packages (from qiskit-ibmq-provider==0.20.2->qiskit[visulization]) (1.6.1)\n",
            "Collecting websockets>=10.0 (from qiskit-ibmq-provider==0.20.2->qiskit[visulization])\n",
            "  Downloading websockets-11.0.3-cp310-cp310-manylinux_2_5_x86_64.manylinux1_x86_64.manylinux_2_17_x86_64.manylinux2014_x86_64.whl (129 kB)\n",
            "\u001b[2K     \u001b[90m━━━━━━━━━━━━━━━━━━━━━━━━━━━━━━━━━━━━━━\u001b[0m \u001b[32m129.9/129.9 kB\u001b[0m \u001b[31m14.5 MB/s\u001b[0m eta \u001b[36m0:00:00\u001b[0m\n",
            "\u001b[?25hCollecting rustworkx>=0.12.0 (from qiskit-terra==0.24.1->qiskit[visulization])\n",
            "  Downloading rustworkx-0.13.0-cp310-cp310-manylinux_2_17_x86_64.manylinux2014_x86_64.whl (1.9 MB)\n",
            "\u001b[2K     \u001b[90m━━━━━━━━━━━━━━━━━━━━━━━━━━━━━━━━━━━━━━━━\u001b[0m \u001b[32m1.9/1.9 MB\u001b[0m \u001b[31m66.9 MB/s\u001b[0m eta \u001b[36m0:00:00\u001b[0m\n",
            "\u001b[?25hCollecting ply>=3.10 (from qiskit-terra==0.24.1->qiskit[visulization])\n",
            "  Downloading ply-3.11-py2.py3-none-any.whl (49 kB)\n",
            "\u001b[2K     \u001b[90m━━━━━━━━━━━━━━━━━━━━━━━━━━━━━━━━━━━━━━━━\u001b[0m \u001b[32m49.6/49.6 kB\u001b[0m \u001b[31m4.4 MB/s\u001b[0m eta \u001b[36m0:00:00\u001b[0m\n",
            "\u001b[?25hRequirement already satisfied: psutil>=5 in /usr/local/lib/python3.10/dist-packages (from qiskit-terra==0.24.1->qiskit[visulization]) (5.9.5)\n",
            "Requirement already satisfied: sympy>=1.3 in /usr/local/lib/python3.10/dist-packages (from qiskit-terra==0.24.1->qiskit[visulization]) (1.11.1)\n",
            "Collecting dill>=0.3 (from qiskit-terra==0.24.1->qiskit[visulization])\n",
            "  Downloading dill-0.3.6-py3-none-any.whl (110 kB)\n",
            "\u001b[2K     \u001b[90m━━━━━━━━━━━━━━━━━━━━━━━━━━━━━━━━━━━━━━\u001b[0m \u001b[32m110.5/110.5 kB\u001b[0m \u001b[31m11.2 MB/s\u001b[0m eta \u001b[36m0:00:00\u001b[0m\n",
            "\u001b[?25hCollecting stevedore>=3.0.0 (from qiskit-terra==0.24.1->qiskit[visulization])\n",
            "  Downloading stevedore-5.1.0-py3-none-any.whl (49 kB)\n",
            "\u001b[2K     \u001b[90m━━━━━━━━━━━━━━━━━━━━━━━━━━━━━━━━━━━━━━━━\u001b[0m \u001b[32m49.6/49.6 kB\u001b[0m \u001b[31m5.4 MB/s\u001b[0m eta \u001b[36m0:00:00\u001b[0m\n",
            "\u001b[?25hCollecting symengine<0.10,>=0.9 (from qiskit-terra==0.24.1->qiskit[visulization])\n",
            "  Downloading symengine-0.9.2-cp310-cp310-manylinux2010_x86_64.whl (37.5 MB)\n",
            "\u001b[2K     \u001b[90m━━━━━━━━━━━━━━━━━━━━━━━━━━━━━━━━━━━━━━━━\u001b[0m \u001b[32m37.5/37.5 MB\u001b[0m \u001b[31m18.0 MB/s\u001b[0m eta \u001b[36m0:00:00\u001b[0m\n",
            "\u001b[?25hRequirement already satisfied: six>=1.5 in /usr/local/lib/python3.10/dist-packages (from python-dateutil>=2.8.0->qiskit-ibmq-provider==0.20.2->qiskit[visulization]) (1.16.0)\n",
            "Requirement already satisfied: certifi>=2017.4.17 in /usr/local/lib/python3.10/dist-packages (from requests>=2.19->qiskit-ibmq-provider==0.20.2->qiskit[visulization]) (2023.5.7)\n",
            "Requirement already satisfied: charset-normalizer~=2.0.0 in /usr/local/lib/python3.10/dist-packages (from requests>=2.19->qiskit-ibmq-provider==0.20.2->qiskit[visulization]) (2.0.12)\n",
            "Requirement already satisfied: idna<4,>=2.5 in /usr/local/lib/python3.10/dist-packages (from requests>=2.19->qiskit-ibmq-provider==0.20.2->qiskit[visulization]) (3.4)\n",
            "Collecting ntlm-auth>=1.0.2 (from requests-ntlm<=1.1.0->qiskit-ibmq-provider==0.20.2->qiskit[visulization])\n",
            "  Downloading ntlm_auth-1.5.0-py2.py3-none-any.whl (29 kB)\n",
            "Collecting cryptography>=1.3 (from requests-ntlm<=1.1.0->qiskit-ibmq-provider==0.20.2->qiskit[visulization])\n",
            "  Downloading cryptography-41.0.2-cp37-abi3-manylinux_2_28_x86_64.whl (4.3 MB)\n",
            "\u001b[2K     \u001b[90m━━━━━━━━━━━━━━━━━━━━━━━━━━━━━━━━━━━━━━━━\u001b[0m \u001b[32m4.3/4.3 MB\u001b[0m \u001b[31m98.0 MB/s\u001b[0m eta \u001b[36m0:00:00\u001b[0m\n",
            "\u001b[?25hCollecting pbr!=2.1.0,>=2.0.0 (from stevedore>=3.0.0->qiskit-terra==0.24.1->qiskit[visulization])\n",
            "  Downloading pbr-5.11.1-py2.py3-none-any.whl (112 kB)\n",
            "\u001b[2K     \u001b[90m━━━━━━━━━━━━━━━━━━━━━━━━━━━━━━━━━━━━━━\u001b[0m \u001b[32m112.7/112.7 kB\u001b[0m \u001b[31m11.5 MB/s\u001b[0m eta \u001b[36m0:00:00\u001b[0m\n",
            "\u001b[?25hRequirement already satisfied: mpmath>=0.19 in /usr/local/lib/python3.10/dist-packages (from sympy>=1.3->qiskit-terra==0.24.1->qiskit[visulization]) (1.3.0)\n",
            "Requirement already satisfied: cffi>=1.12 in /usr/local/lib/python3.10/dist-packages (from cryptography>=1.3->requests-ntlm<=1.1.0->qiskit-ibmq-provider==0.20.2->qiskit[visulization]) (1.15.1)\n",
            "Requirement already satisfied: pycparser in /usr/local/lib/python3.10/dist-packages (from cffi>=1.12->cryptography>=1.3->requests-ntlm<=1.1.0->qiskit-ibmq-provider==0.20.2->qiskit[visulization]) (2.21)\n",
            "Building wheels for collected packages: qiskit\n",
            "  Building wheel for qiskit (pyproject.toml) ... \u001b[?25l\u001b[?25hdone\n",
            "  Created wheel for qiskit: filename=qiskit-0.43.2-py3-none-any.whl size=7640 sha256=767b45ab09830475fe080e50245e13e137c04f55697cd43fa3a2925376e45968\n",
            "  Stored in directory: /root/.cache/pip/wheels/d4/ad/4f/f54eb8743e54c5bab69837b842cf56a8a87ac7c57a2abf85ad\n",
            "Successfully built qiskit\n",
            "Installing collected packages: ply, websockets, symengine, rustworkx, pbr, ntlm-auth, dill, stevedore, cryptography, requests-ntlm, qiskit-terra, qiskit-ibmq-provider, qiskit-aer, qiskit\n",
            "Successfully installed cryptography-41.0.2 dill-0.3.6 ntlm-auth-1.5.0 pbr-5.11.1 ply-3.11 qiskit-0.43.2 qiskit-aer-0.12.1 qiskit-ibmq-provider-0.20.2 qiskit-terra-0.24.1 requests-ntlm-1.1.0 rustworkx-0.13.0 stevedore-5.1.0 symengine-0.9.2 websockets-11.0.3\n",
            "Collecting pyscf\n",
            "  Downloading pyscf-2.3.0-cp310-cp310-manylinux_2_17_x86_64.manylinux2014_x86_64.whl (47.2 MB)\n",
            "\u001b[2K     \u001b[90m━━━━━━━━━━━━━━━━━━━━━━━━━━━━━━━━━━━━━━━━\u001b[0m \u001b[32m47.2/47.2 MB\u001b[0m \u001b[31m11.4 MB/s\u001b[0m eta \u001b[36m0:00:00\u001b[0m\n",
            "\u001b[?25hRequirement already satisfied: numpy!=1.16,!=1.17,>=1.13 in /usr/local/lib/python3.10/dist-packages (from pyscf) (1.22.4)\n",
            "Requirement already satisfied: scipy!=1.5.0,!=1.5.1 in /usr/local/lib/python3.10/dist-packages (from pyscf) (1.10.1)\n",
            "Requirement already satisfied: h5py>=2.7 in /usr/local/lib/python3.10/dist-packages (from pyscf) (3.8.0)\n",
            "Installing collected packages: pyscf\n",
            "Successfully installed pyscf-2.3.0\n",
            "Collecting qiskit-nature\n",
            "  Downloading qiskit_nature-0.6.2-py3-none-any.whl (4.1 MB)\n",
            "\u001b[2K     \u001b[90m━━━━━━━━━━━━━━━━━━━━━━━━━━━━━━━━━━━━━━━━\u001b[0m \u001b[32m4.1/4.1 MB\u001b[0m \u001b[31m37.3 MB/s\u001b[0m eta \u001b[36m0:00:00\u001b[0m\n",
            "\u001b[?25hRequirement already satisfied: qiskit-terra>=0.24 in /usr/local/lib/python3.10/dist-packages (from qiskit-nature) (0.24.1)\n",
            "Requirement already satisfied: scipy>=1.4 in /usr/local/lib/python3.10/dist-packages (from qiskit-nature) (1.10.1)\n",
            "Requirement already satisfied: numpy>=1.17 in /usr/local/lib/python3.10/dist-packages (from qiskit-nature) (1.22.4)\n",
            "Requirement already satisfied: psutil>=5 in /usr/local/lib/python3.10/dist-packages (from qiskit-nature) (5.9.5)\n",
            "Requirement already satisfied: scikit-learn>=0.20.0 in /usr/local/lib/python3.10/dist-packages (from qiskit-nature) (1.2.2)\n",
            "Requirement already satisfied: setuptools>=40.1.0 in /usr/local/lib/python3.10/dist-packages (from qiskit-nature) (67.7.2)\n",
            "Requirement already satisfied: typing-extensions in /usr/local/lib/python3.10/dist-packages (from qiskit-nature) (4.7.1)\n",
            "Requirement already satisfied: h5py in /usr/local/lib/python3.10/dist-packages (from qiskit-nature) (3.8.0)\n",
            "Requirement already satisfied: rustworkx in /usr/local/lib/python3.10/dist-packages (from qiskit-nature) (0.13.0)\n",
            "Requirement already satisfied: ply>=3.10 in /usr/local/lib/python3.10/dist-packages (from qiskit-terra>=0.24->qiskit-nature) (3.11)\n",
            "Requirement already satisfied: sympy>=1.3 in /usr/local/lib/python3.10/dist-packages (from qiskit-terra>=0.24->qiskit-nature) (1.11.1)\n",
            "Requirement already satisfied: dill>=0.3 in /usr/local/lib/python3.10/dist-packages (from qiskit-terra>=0.24->qiskit-nature) (0.3.6)\n",
            "Requirement already satisfied: python-dateutil>=2.8.0 in /usr/local/lib/python3.10/dist-packages (from qiskit-terra>=0.24->qiskit-nature) (2.8.2)\n",
            "Requirement already satisfied: stevedore>=3.0.0 in /usr/local/lib/python3.10/dist-packages (from qiskit-terra>=0.24->qiskit-nature) (5.1.0)\n",
            "Requirement already satisfied: symengine<0.10,>=0.9 in /usr/local/lib/python3.10/dist-packages (from qiskit-terra>=0.24->qiskit-nature) (0.9.2)\n",
            "Requirement already satisfied: joblib>=1.1.1 in /usr/local/lib/python3.10/dist-packages (from scikit-learn>=0.20.0->qiskit-nature) (1.3.1)\n",
            "Requirement already satisfied: threadpoolctl>=2.0.0 in /usr/local/lib/python3.10/dist-packages (from scikit-learn>=0.20.0->qiskit-nature) (3.1.0)\n",
            "Requirement already satisfied: six>=1.5 in /usr/local/lib/python3.10/dist-packages (from python-dateutil>=2.8.0->qiskit-terra>=0.24->qiskit-nature) (1.16.0)\n",
            "Requirement already satisfied: pbr!=2.1.0,>=2.0.0 in /usr/local/lib/python3.10/dist-packages (from stevedore>=3.0.0->qiskit-terra>=0.24->qiskit-nature) (5.11.1)\n",
            "Requirement already satisfied: mpmath>=0.19 in /usr/local/lib/python3.10/dist-packages (from sympy>=1.3->qiskit-terra>=0.24->qiskit-nature) (1.3.0)\n",
            "Installing collected packages: qiskit-nature\n",
            "Successfully installed qiskit-nature-0.6.2\n"
          ]
        }
      ],
      "source": [
        "!pip install qiskit[visulization]\n",
        "!pip install pyscf\n",
        "!pip install qiskit-nature"
      ]
    },
    {
      "cell_type": "code",
      "source": [
        "import qiskit\n",
        "qiskit.__qiskit_version__"
      ],
      "metadata": {
        "colab": {
          "base_uri": "https://localhost:8080/"
        },
        "id": "A8f5OLOTpQyy",
        "outputId": "f47296e7-0574-43b0-c5e0-abdfdc19fb11"
      },
      "execution_count": 2,
      "outputs": [
        {
          "output_type": "execute_result",
          "data": {
            "text/plain": [
              "{'qiskit-terra': '0.24.1', 'qiskit-aer': '0.12.1', 'qiskit-ignis': None, 'qiskit-ibmq-provider': '0.20.2', 'qiskit': '0.43.2', 'qiskit-nature': '0.6.2', 'qiskit-finance': None, 'qiskit-optimization': None, 'qiskit-machine-learning': None}"
            ]
          },
          "metadata": {},
          "execution_count": 2
        }
      ]
    },
    {
      "cell_type": "code",
      "source": [
        "import qiskit_nature\n",
        "from qiskit.algorithms.minimum_eigensolvers import NumPyMinimumEigensolver, VQE\n",
        "from qiskit_nature.second_q.transformers import FreezeCoreTransformer\n",
        "from qiskit_nature.second_q.formats.molecule_info import MoleculeInfo\n",
        "from qiskit_nature.second_q.mappers import ParityMapper\n",
        "from qiskit_nature.second_q.circuit.library import UCCSD, HartreeFock\n",
        "from qiskit.algorithms.optimizers import SPSA, SLSQP\n",
        "import numpy as np\n",
        "qiskit_nature.settings.use_pauli_sum_op = False\n",
        "from qiskit_nature.second_q.drivers import PySCFDriver\n",
        "import matplotlib.pyplot as plt\n",
        "from qiskit.circuit.library import EfficientSU2\n",
        "from qiskit_aer.primitives import Estimator"
      ],
      "metadata": {
        "id": "Oi7kq_kfpSwc"
      },
      "execution_count": 3,
      "outputs": []
    },
    {
      "cell_type": "markdown",
      "source": [
        "---\n",
        "---\n",
        "# Lithium Hydride (LiH)\n",
        "---\n",
        "---"
      ],
      "metadata": {
        "id": "KSzrZ02hpV94"
      }
    },
    {
      "cell_type": "code",
      "source": [
        "# Li-H Molecule\n",
        "def get_qubit_op(dist):\n",
        "    # Define Molecule\n",
        "    molecule = MoleculeInfo(\n",
        "        # Coordinates in Angstrom\n",
        "        symbols=[\"Li\", \"H\"],\n",
        "        coords=([0.0, 0.0, 0.0], [dist, 0.0, 0.0]),\n",
        "        multiplicity=1,  # = 2*spin + 1\n",
        "        charge=0,\n",
        "    )\n",
        "\n",
        "    driver = PySCFDriver.from_molecule(molecule)\n",
        "\n",
        "    # Get properties\n",
        "    properties = driver.run()\n",
        "\n",
        "    # Now you can get the reduced electronic structure problem\n",
        "    problem = FreezeCoreTransformer(\n",
        "        freeze_core=True, remove_orbitals=[-3, -2]\n",
        "    ).transform(properties)\n",
        "\n",
        "    num_particles = problem.num_particles\n",
        "    num_spatial_orbitals = problem.num_spatial_orbitals\n",
        "\n",
        "    mapper = ParityMapper(num_particles=num_particles)\n",
        "    qubit_op = mapper.map(problem.second_q_ops()[0])\n",
        "    return qubit_op, num_particles, num_spatial_orbitals, problem, mapper\n"
      ],
      "metadata": {
        "id": "nFOLl0pZpVPF"
      },
      "execution_count": 4,
      "outputs": []
    },
    {
      "cell_type": "code",
      "source": [
        "%%time\n",
        "\n",
        "def exact_solver(qubit_op, problem):\n",
        "    sol = NumPyMinimumEigensolver().compute_minimum_eigenvalue(qubit_op)\n",
        "    result = problem.interpret(sol)\n",
        "    return result\n",
        "\n",
        "\n",
        "distances = np.arange(0.5, 4.0, 0.2)\n",
        "exact_energies = []\n",
        "vqe_energies = []\n",
        "optimizer = SLSQP(maxiter=10)\n",
        "noiseless_estimator = Estimator(approximation=True)\n",
        "for dist in distances:\n",
        "    (qubit_op, num_particles, num_spatial_orbitals, problem, mapper) = get_qubit_op(\n",
        "        dist\n",
        "    )\n",
        "\n",
        "    result = exact_solver(qubit_op, problem)\n",
        "    exact_energies.append(result.total_energies[0].real)\n",
        "    init_state = HartreeFock(num_spatial_orbitals, num_particles, mapper)\n",
        "    var_form = UCCSD(\n",
        "        num_spatial_orbitals, num_particles, mapper, initial_state=init_state\n",
        "    )\n",
        "    vqe = VQE(\n",
        "        noiseless_estimator,\n",
        "        var_form,\n",
        "        optimizer,\n",
        "        initial_point=[0] * var_form.num_parameters,\n",
        "    )\n",
        "    vqe_calc = vqe.compute_minimum_eigenvalue(qubit_op)\n",
        "    vqe_result = problem.interpret(vqe_calc).total_energies[0].real\n",
        "    vqe_energies.append(vqe_result)\n",
        "    print(\n",
        "        f\"Interatomic Distance: {np.round(dist, 2)}\",\n",
        "        f\"VQE Result: {vqe_result:.5f}\",\n",
        "        f\"Exact Energy: {exact_energies[-1]:.5f}\",\n",
        "    )\n",
        "\n",
        "print(\"All energies have been calculated\")"
      ],
      "metadata": {
        "colab": {
          "base_uri": "https://localhost:8080/"
        },
        "id": "ZXjFypi6p1DW",
        "outputId": "37a88502-2431-4372-d6b5-65d27c292d64"
      },
      "execution_count": 5,
      "outputs": [
        {
          "output_type": "stream",
          "name": "stderr",
          "text": [
            "/usr/local/lib/python3.10/dist-packages/pyscf/dft/libxc.py:772: UserWarning: Since PySCF-2.3, B3LYP (and B3P86) are changed to the VWN-RPA variant, the same to the B3LYP functional in Gaussian and ORCA (issue 1480). To restore the VWN5 definition, you can put the setting \"B3LYP_WITH_VWN5 = True\" in pyscf_conf.py\n",
            "  warnings.warn('Since PySCF-2.3, B3LYP (and B3P86) are changed to the VWN-RPA variant, '\n"
          ]
        },
        {
          "output_type": "stream",
          "name": "stdout",
          "text": [
            "Interatomic Distance: 0.5 VQE Result: -7.04791 Exact Energy: -7.04791\n",
            "Interatomic Distance: 0.7 VQE Result: -7.50400 Exact Energy: -7.50400\n",
            "Interatomic Distance: 0.9 VQE Result: -7.72283 Exact Energy: -7.72283\n",
            "Interatomic Distance: 1.1 VQE Result: -7.82520 Exact Energy: -7.82520\n",
            "Interatomic Distance: 1.3 VQE Result: -7.86890 Exact Energy: -7.86890\n",
            "Interatomic Distance: 1.5 VQE Result: -7.88214 Exact Energy: -7.88214\n",
            "Interatomic Distance: 1.7 VQE Result: -7.87920 Exact Energy: -7.87920\n",
            "Interatomic Distance: 1.9 VQE Result: -7.86799 Exact Energy: -7.86799\n",
            "Interatomic Distance: 2.1 VQE Result: -7.85320 Exact Energy: -7.85320\n",
            "Interatomic Distance: 2.3 VQE Result: -7.83772 Exact Energy: -7.83772\n",
            "Interatomic Distance: 2.5 VQE Result: -7.82343 Exact Energy: -7.82343\n",
            "Interatomic Distance: 2.7 VQE Result: -7.81142 Exact Energy: -7.81142\n",
            "Interatomic Distance: 2.9 VQE Result: -7.80215 Exact Energy: -7.80215\n",
            "Interatomic Distance: 3.1 VQE Result: -7.79545 Exact Energy: -7.79545\n",
            "Interatomic Distance: 3.3 VQE Result: -7.79085 Exact Energy: -7.79085\n",
            "Interatomic Distance: 3.5 VQE Result: -7.78776 Exact Energy: -7.78776\n",
            "Interatomic Distance: 3.7 VQE Result: -7.78573 Exact Energy: -7.78573\n",
            "Interatomic Distance: 3.9 VQE Result: -7.78441 Exact Energy: -7.78441\n",
            "All energies have been calculated\n",
            "CPU times: user 3min 37s, sys: 7.1 s, total: 3min 44s\n",
            "Wall time: 3min 50s\n"
          ]
        }
      ]
    },
    {
      "cell_type": "code",
      "source": [
        "plt.plot(distances, vqe_energies, 'o-' , label=\"VQE Energy\")\n",
        "plt.plot(distances, exact_energies, label=\"Exact Energy\")\n",
        "plt.xlabel(\"Atomic distance (Angstrom)\")\n",
        "plt.title(\"Li-H\")\n",
        "plt.ylabel(\"Energy(Hartree)\")\n",
        "plt.legend()\n",
        "plt.show()"
      ],
      "metadata": {
        "colab": {
          "base_uri": "https://localhost:8080/",
          "height": 472
        },
        "id": "ztIfGJDSp7k0",
        "outputId": "2f330af7-bb90-4b9d-d0e4-a30655b76afa"
      },
      "execution_count": null,
      "outputs": [
        {
          "output_type": "display_data",
          "data": {
            "text/plain": [
              "<Figure size 640x480 with 1 Axes>"
            ],
            "image/png": "[encoded data removed]"
          },
          "metadata": {}
        }
      ]
    },
    {
      "cell_type": "code",
      "source": [],
      "metadata": {
        "id": "DkdfRJhJ_kbK"
      },
      "execution_count": null,
      "outputs": []
    }
  ]
}