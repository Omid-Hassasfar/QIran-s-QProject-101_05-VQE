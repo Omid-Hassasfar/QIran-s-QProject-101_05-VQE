{
  "nbformat": 4,
  "nbformat_minor": 0,
  "metadata": {
    "colab": {
      "provenance": [],
      "authorship_tag": "ABX9TyNm+v1Mjuesd2zdTjazJPdo",
      "include_colab_link": true
    },
    "kernelspec": {
      "name": "python3",
      "display_name": "Python 3"
    },
    "language_info": {
      "name": "python"
    }
  },
  "cells": [
    {
      "cell_type": "markdown",
      "metadata": {
        "id": "view-in-github",
        "colab_type": "text"
      },
      "source": [
        "<a href=\"https://colab.research.google.com/github/Omid-Hassasfar/QIran-s-QProject-101_05-VQE/blob/main/5_VQE_BeH2_Beryllium_Hydride_.ipynb\" target=\"_parent\"><img src=\"https://colab.research.google.com/assets/colab-badge.svg\" alt=\"Open In Colab\"/></a>"
      ]
    },
    {
      "cell_type": "code",
      "execution_count": null,
      "metadata": {
        "colab": {
          "base_uri": "https://localhost:8080/"
        },
        "id": "6L6La6FZsUCv",
        "outputId": "e1d9ef47-3fec-43f1-bf07-9818cf420a8b"
      },
      "outputs": [
        {
          "output_type": "stream",
          "name": "stdout",
          "text": [
            "Collecting qiskit[visulization]\n",
            "  Using cached qiskit-0.43.2-py3-none-any.whl\n",
            "\u001b[33mWARNING: qiskit 0.43.2 does not provide the extra 'visulization'\u001b[0m\u001b[33m\n",
            "\u001b[0mCollecting qiskit-terra==0.24.1 (from qiskit[visulization])\n",
            "  Using cached qiskit_terra-0.24.1-cp310-cp310-manylinux_2_17_x86_64.manylinux2014_x86_64.whl (5.9 MB)\n",
            "Collecting qiskit-aer==0.12.1 (from qiskit[visulization])\n",
            "  Using cached qiskit_aer-0.12.1-cp310-cp310-manylinux_2_17_x86_64.manylinux2014_x86_64.whl (12.8 MB)\n",
            "Collecting qiskit-ibmq-provider==0.20.2 (from qiskit[visulization])\n",
            "  Using cached qiskit_ibmq_provider-0.20.2-py3-none-any.whl (241 kB)\n",
            "Requirement already satisfied: numpy>=1.16.3 in /usr/local/lib/python3.10/dist-packages (from qiskit-aer==0.12.1->qiskit[visulization]) (1.22.4)\n",
            "Requirement already satisfied: scipy>=1.0 in /usr/local/lib/python3.10/dist-packages (from qiskit-aer==0.12.1->qiskit[visulization]) (1.10.1)\n",
            "Requirement already satisfied: requests>=2.19 in /usr/local/lib/python3.10/dist-packages (from qiskit-ibmq-provider==0.20.2->qiskit[visulization]) (2.27.1)\n",
            "Collecting requests-ntlm<=1.1.0 (from qiskit-ibmq-provider==0.20.2->qiskit[visulization])\n",
            "  Using cached requests_ntlm-1.1.0-py2.py3-none-any.whl (5.7 kB)\n",
            "Requirement already satisfied: urllib3>=1.21.1 in /usr/local/lib/python3.10/dist-packages (from qiskit-ibmq-provider==0.20.2->qiskit[visulization]) (1.26.16)\n",
            "Requirement already satisfied: python-dateutil>=2.8.0 in /usr/local/lib/python3.10/dist-packages (from qiskit-ibmq-provider==0.20.2->qiskit[visulization]) (2.8.2)\n",
            "Requirement already satisfied: websocket-client>=1.5.1 in /usr/local/lib/python3.10/dist-packages (from qiskit-ibmq-provider==0.20.2->qiskit[visulization]) (1.6.0)\n",
            "Collecting websockets>=10.0 (from qiskit-ibmq-provider==0.20.2->qiskit[visulization])\n",
            "  Using cached websockets-11.0.3-cp310-cp310-manylinux_2_5_x86_64.manylinux1_x86_64.manylinux_2_17_x86_64.manylinux2014_x86_64.whl (129 kB)\n",
            "Collecting rustworkx>=0.12.0 (from qiskit-terra==0.24.1->qiskit[visulization])\n",
            "  Using cached rustworkx-0.13.0-cp310-cp310-manylinux_2_17_x86_64.manylinux2014_x86_64.whl (1.9 MB)\n",
            "Requirement already satisfied: ply>=3.10 in /usr/local/lib/python3.10/dist-packages (from qiskit-terra==0.24.1->qiskit[visulization]) (3.11)\n",
            "Requirement already satisfied: psutil>=5 in /usr/local/lib/python3.10/dist-packages (from qiskit-terra==0.24.1->qiskit[visulization]) (5.9.5)\n",
            "Requirement already satisfied: sympy>=1.3 in /usr/local/lib/python3.10/dist-packages (from qiskit-terra==0.24.1->qiskit[visulization]) (1.11.1)\n",
            "Collecting dill>=0.3 (from qiskit-terra==0.24.1->qiskit[visulization])\n",
            "  Using cached dill-0.3.6-py3-none-any.whl (110 kB)\n",
            "Collecting stevedore>=3.0.0 (from qiskit-terra==0.24.1->qiskit[visulization])\n",
            "  Using cached stevedore-5.1.0-py3-none-any.whl (49 kB)\n",
            "Collecting symengine<0.10,>=0.9 (from qiskit-terra==0.24.1->qiskit[visulization])\n",
            "  Using cached symengine-0.9.2-cp310-cp310-manylinux2010_x86_64.whl (37.5 MB)\n",
            "Requirement already satisfied: six>=1.5 in /usr/local/lib/python3.10/dist-packages (from python-dateutil>=2.8.0->qiskit-ibmq-provider==0.20.2->qiskit[visulization]) (1.16.0)\n",
            "Requirement already satisfied: certifi>=2017.4.17 in /usr/local/lib/python3.10/dist-packages (from requests>=2.19->qiskit-ibmq-provider==0.20.2->qiskit[visulization]) (2023.5.7)\n",
            "Requirement already satisfied: charset-normalizer~=2.0.0 in /usr/local/lib/python3.10/dist-packages (from requests>=2.19->qiskit-ibmq-provider==0.20.2->qiskit[visulization]) (2.0.12)\n",
            "Requirement already satisfied: idna<4,>=2.5 in /usr/local/lib/python3.10/dist-packages (from requests>=2.19->qiskit-ibmq-provider==0.20.2->qiskit[visulization]) (3.4)\n",
            "Collecting ntlm-auth>=1.0.2 (from requests-ntlm<=1.1.0->qiskit-ibmq-provider==0.20.2->qiskit[visulization])\n",
            "  Using cached ntlm_auth-1.5.0-py2.py3-none-any.whl (29 kB)\n",
            "Collecting cryptography>=1.3 (from requests-ntlm<=1.1.0->qiskit-ibmq-provider==0.20.2->qiskit[visulization])\n",
            "  Using cached cryptography-41.0.1-cp37-abi3-manylinux_2_28_x86_64.whl (4.3 MB)\n",
            "Collecting pbr!=2.1.0,>=2.0.0 (from stevedore>=3.0.0->qiskit-terra==0.24.1->qiskit[visulization])\n",
            "  Using cached pbr-5.11.1-py2.py3-none-any.whl (112 kB)\n",
            "Requirement already satisfied: mpmath>=0.19 in /usr/local/lib/python3.10/dist-packages (from sympy>=1.3->qiskit-terra==0.24.1->qiskit[visulization]) (1.3.0)\n",
            "Requirement already satisfied: cffi>=1.12 in /usr/local/lib/python3.10/dist-packages (from cryptography>=1.3->requests-ntlm<=1.1.0->qiskit-ibmq-provider==0.20.2->qiskit[visulization]) (1.15.1)\n",
            "Requirement already satisfied: pycparser in /usr/local/lib/python3.10/dist-packages (from cffi>=1.12->cryptography>=1.3->requests-ntlm<=1.1.0->qiskit-ibmq-provider==0.20.2->qiskit[visulization]) (2.21)\n",
            "Installing collected packages: websockets, symengine, rustworkx, pbr, ntlm-auth, dill, stevedore, cryptography, requests-ntlm, qiskit-terra, qiskit-ibmq-provider, qiskit-aer, qiskit\n",
            "Successfully installed cryptography-41.0.1 dill-0.3.6 ntlm-auth-1.5.0 pbr-5.11.1 qiskit-0.43.2 qiskit-aer-0.12.1 qiskit-ibmq-provider-0.20.2 qiskit-terra-0.24.1 requests-ntlm-1.1.0 rustworkx-0.13.0 stevedore-5.1.0 symengine-0.9.2 websockets-11.0.3\n"
          ]
        }
      ],
      "source": [
        "!pip install qiskit[visulization]"
      ]
    },
    {
      "cell_type": "code",
      "source": [
        "!pip install pyscf"
      ],
      "metadata": {
        "colab": {
          "base_uri": "https://localhost:8080/"
        },
        "id": "tVV6sTwIt0V8",
        "outputId": "d062df77-7dd7-4226-f98e-7554404e2b31"
      },
      "execution_count": null,
      "outputs": [
        {
          "output_type": "stream",
          "name": "stdout",
          "text": [
            "Collecting pyscf\n",
            "  Using cached pyscf-2.3.0-cp310-cp310-manylinux_2_17_x86_64.manylinux2014_x86_64.whl (47.2 MB)\n",
            "Requirement already satisfied: numpy!=1.16,!=1.17,>=1.13 in /usr/local/lib/python3.10/dist-packages (from pyscf) (1.22.4)\n",
            "Requirement already satisfied: scipy!=1.5.0,!=1.5.1 in /usr/local/lib/python3.10/dist-packages (from pyscf) (1.10.1)\n",
            "Requirement already satisfied: h5py>=2.7 in /usr/local/lib/python3.10/dist-packages (from pyscf) (3.8.0)\n",
            "Installing collected packages: pyscf\n",
            "Successfully installed pyscf-2.3.0\n"
          ]
        }
      ]
    },
    {
      "cell_type": "code",
      "source": [
        "!pip install qiskit-nature"
      ],
      "metadata": {
        "colab": {
          "base_uri": "https://localhost:8080/"
        },
        "id": "noMctYuat29h",
        "outputId": "a5185237-0ec7-40fb-dfb7-88c59c4b3b83"
      },
      "execution_count": null,
      "outputs": [
        {
          "output_type": "stream",
          "name": "stdout",
          "text": [
            "Collecting qiskit-nature\n",
            "  Downloading qiskit_nature-0.6.2-py3-none-any.whl (4.1 MB)\n",
            "\u001b[2K     \u001b[90m━━━━━━━━━━━━━━━━━━━━━━━━━━━━━━━━━━━━━━━━\u001b[0m \u001b[32m4.1/4.1 MB\u001b[0m \u001b[31m26.7 MB/s\u001b[0m eta \u001b[36m0:00:00\u001b[0m\n",
            "\u001b[?25hRequirement already satisfied: qiskit-terra>=0.24 in /usr/local/lib/python3.10/dist-packages (from qiskit-nature) (0.24.1)\n",
            "Requirement already satisfied: scipy>=1.4 in /usr/local/lib/python3.10/dist-packages (from qiskit-nature) (1.10.1)\n",
            "Requirement already satisfied: numpy>=1.17 in /usr/local/lib/python3.10/dist-packages (from qiskit-nature) (1.22.4)\n",
            "Requirement already satisfied: psutil>=5 in /usr/local/lib/python3.10/dist-packages (from qiskit-nature) (5.9.5)\n",
            "Requirement already satisfied: scikit-learn>=0.20.0 in /usr/local/lib/python3.10/dist-packages (from qiskit-nature) (1.2.2)\n",
            "Requirement already satisfied: setuptools>=40.1.0 in /usr/local/lib/python3.10/dist-packages (from qiskit-nature) (67.7.2)\n",
            "Requirement already satisfied: typing-extensions in /usr/local/lib/python3.10/dist-packages (from qiskit-nature) (4.6.3)\n",
            "Requirement already satisfied: h5py in /usr/local/lib/python3.10/dist-packages (from qiskit-nature) (3.8.0)\n",
            "Requirement already satisfied: rustworkx in /usr/local/lib/python3.10/dist-packages (from qiskit-nature) (0.13.0)\n",
            "Requirement already satisfied: ply>=3.10 in /usr/local/lib/python3.10/dist-packages (from qiskit-terra>=0.24->qiskit-nature) (3.11)\n",
            "Requirement already satisfied: sympy>=1.3 in /usr/local/lib/python3.10/dist-packages (from qiskit-terra>=0.24->qiskit-nature) (1.11.1)\n",
            "Requirement already satisfied: dill>=0.3 in /usr/local/lib/python3.10/dist-packages (from qiskit-terra>=0.24->qiskit-nature) (0.3.6)\n",
            "Requirement already satisfied: python-dateutil>=2.8.0 in /usr/local/lib/python3.10/dist-packages (from qiskit-terra>=0.24->qiskit-nature) (2.8.2)\n",
            "Requirement already satisfied: stevedore>=3.0.0 in /usr/local/lib/python3.10/dist-packages (from qiskit-terra>=0.24->qiskit-nature) (5.1.0)\n",
            "Requirement already satisfied: symengine<0.10,>=0.9 in /usr/local/lib/python3.10/dist-packages (from qiskit-terra>=0.24->qiskit-nature) (0.9.2)\n",
            "Requirement already satisfied: joblib>=1.1.1 in /usr/local/lib/python3.10/dist-packages (from scikit-learn>=0.20.0->qiskit-nature) (1.2.0)\n",
            "Requirement already satisfied: threadpoolctl>=2.0.0 in /usr/local/lib/python3.10/dist-packages (from scikit-learn>=0.20.0->qiskit-nature) (3.1.0)\n",
            "Requirement already satisfied: six>=1.5 in /usr/local/lib/python3.10/dist-packages (from python-dateutil>=2.8.0->qiskit-terra>=0.24->qiskit-nature) (1.16.0)\n",
            "Requirement already satisfied: pbr!=2.1.0,>=2.0.0 in /usr/local/lib/python3.10/dist-packages (from stevedore>=3.0.0->qiskit-terra>=0.24->qiskit-nature) (5.11.1)\n",
            "Requirement already satisfied: mpmath>=0.19 in /usr/local/lib/python3.10/dist-packages (from sympy>=1.3->qiskit-terra>=0.24->qiskit-nature) (1.3.0)\n",
            "Installing collected packages: qiskit-nature\n",
            "Successfully installed qiskit-nature-0.6.2\n"
          ]
        }
      ]
    },
    {
      "cell_type": "code",
      "source": [
        "import qiskit\n",
        "qiskit.__qiskit_version__"
      ],
      "metadata": {
        "colab": {
          "base_uri": "https://localhost:8080/"
        },
        "id": "j82OE9Jft55b",
        "outputId": "d3cdd8c4-fd62-44cc-9042-a30d6fa0a830"
      },
      "execution_count": null,
      "outputs": [
        {
          "output_type": "execute_result",
          "data": {
            "text/plain": [
              "{'qiskit-terra': '0.24.1', 'qiskit-aer': '0.12.1', 'qiskit-ignis': None, 'qiskit-ibmq-provider': '0.20.2', 'qiskit': '0.43.2', 'qiskit-nature': '0.6.2', 'qiskit-finance': None, 'qiskit-optimization': None, 'qiskit-machine-learning': None}"
            ]
          },
          "metadata": {},
          "execution_count": 6
        }
      ]
    },
    {
      "cell_type": "code",
      "source": [
        "import qiskit_nature\n",
        "from qiskit.algorithms.minimum_eigensolvers import NumPyMinimumEigensolver, VQE\n",
        "from qiskit_nature.second_q.transformers import FreezeCoreTransformer\n",
        "from qiskit_nature.second_q.formats.molecule_info import MoleculeInfo\n",
        "from qiskit_nature.second_q.mappers import ParityMapper\n",
        "from qiskit_nature.second_q.circuit.library import UCCSD, HartreeFock\n",
        "from qiskit.algorithms.optimizers import SPSA, SLSQP\n",
        "import numpy as np\n",
        "qiskit_nature.settings.use_pauli_sum_op = False\n",
        "from qiskit_nature.second_q.drivers import PySCFDriver\n",
        "import matplotlib.pyplot as plt\n",
        "from qiskit.circuit.library import EfficientSU2\n",
        "from qiskit_aer.primitives import Estimator"
      ],
      "metadata": {
        "id": "SiKMn1EQt9cR"
      },
      "execution_count": null,
      "outputs": []
    },
    {
      "cell_type": "markdown",
      "source": [
        "---\n",
        "---\n",
        "# $Be-H_2$\n",
        "---\n",
        "---"
      ],
      "metadata": {
        "id": "OwfCvThcuBAo"
      }
    },
    {
      "cell_type": "code",
      "source": [
        "# Li-H Molecule\n",
        "def get_qubit_op(dist):\n",
        "    # Define Molecule\n",
        "    molecule = MoleculeInfo(\n",
        "        # Coordinates in Angstrom\n",
        "        symbols=[ \"H\" , \"Be\", \"H\"],\n",
        "        coords=([-dist, 0.0, 0.0] , [0.0, 0.0, 0.0], [dist, 0.0, 0.0]),\n",
        "        multiplicity=1,  # = 2*spin + 1\n",
        "        charge=0,\n",
        "    )\n",
        "\n",
        "    driver = PySCFDriver.from_molecule(molecule)\n",
        "\n",
        "    # Get properties\n",
        "    properties = driver.run()\n",
        "\n",
        "    # Now you can get the reduced electronic structure problem\n",
        "    problem = FreezeCoreTransformer(\n",
        "        freeze_core=True, remove_orbitals=[-3, -2]\n",
        "    ).transform(properties)\n",
        "\n",
        "    num_particles = problem.num_particles\n",
        "    num_spatial_orbitals = problem.num_spatial_orbitals\n",
        "\n",
        "    mapper = ParityMapper(num_particles=num_particles)\n",
        "    qubit_op = mapper.map(problem.second_q_ops()[0])\n",
        "    return qubit_op, num_particles, num_spatial_orbitals, problem, mapper"
      ],
      "metadata": {
        "id": "YRPQNQ39vaIW"
      },
      "execution_count": null,
      "outputs": []
    },
    {
      "cell_type": "code",
      "source": [
        "%%time\n",
        "\n",
        "def exact_solver(qubit_op, problem):\n",
        "    sol = NumPyMinimumEigensolver().compute_minimum_eigenvalue(qubit_op)\n",
        "    result = problem.interpret(sol)\n",
        "    return result\n",
        "\n",
        "\n",
        "distances = np.arange(0.6, 4.0, 0.1)\n",
        "exact_energies = []\n",
        "vqe_energies = []\n",
        "optimizer = SLSQP(maxiter=10)\n",
        "noiseless_estimator = Estimator(approximation=True)\n",
        "for dist in distances:\n",
        "    (qubit_op, num_particles, num_spatial_orbitals, problem, mapper) = get_qubit_op(\n",
        "        dist\n",
        "    )\n",
        "\n",
        "    result = exact_solver(qubit_op, problem)\n",
        "    exact_energies.append(result.total_energies[0].real)\n",
        "    init_state = HartreeFock(num_spatial_orbitals, num_particles, mapper)\n",
        "    var_form = UCCSD(\n",
        "        num_spatial_orbitals, num_particles, mapper, initial_state=init_state\n",
        "    )\n",
        "    vqe = VQE(\n",
        "        noiseless_estimator,\n",
        "        var_form,\n",
        "        optimizer,\n",
        "        initial_point=[0] * var_form.num_parameters,\n",
        "    )\n",
        "    vqe_calc = vqe.compute_minimum_eigenvalue(qubit_op)\n",
        "    vqe_result = problem.interpret(vqe_calc).total_energies[0].real\n",
        "    vqe_energies.append(vqe_result)\n",
        "    print(\n",
        "        f\"Interatomic Distance: {np.round(dist, 2)}\",\n",
        "        f\"VQE Result: {vqe_result:.5f}\",\n",
        "        f\"Exact Energy: {exact_energies[-1]:.5f}\",\n",
        "    )\n",
        "\n",
        "print(\"All energies have been calculated\")"
      ],
      "metadata": {
        "colab": {
          "base_uri": "https://localhost:8080/"
        },
        "id": "iuWemKA4wGxb",
        "outputId": "4149a591-fc66-4999-def8-e9e26bd41436"
      },
      "execution_count": null,
      "outputs": [
        {
          "output_type": "stream",
          "name": "stderr",
          "text": [
            "/usr/local/lib/python3.10/dist-packages/pyscf/dft/libxc.py:772: UserWarning: Since PySCF-2.3, B3LYP (and B3P86) are changed to the VWN-RPA variant, the same to the B3LYP functional in Gaussian and ORCA (issue 1480). To restore the VWN5 definition, you can put the setting \"B3LYP_WITH_VWN5 = True\" in pyscf_conf.py\n",
            "  warnings.warn('Since PySCF-2.3, B3LYP (and B3P86) are changed to the VWN-RPA variant, '\n"
          ]
        },
        {
          "output_type": "stream",
          "name": "stdout",
          "text": [
            "Interatomic Distance: 0.6 VQE Result: -14.40461 Exact Energy: -14.40506\n",
            "Interatomic Distance: 0.7 VQE Result: -14.87061 Exact Energy: -14.87098\n",
            "Interatomic Distance: 0.8 VQE Result: -15.17217 Exact Energy: -15.17247\n",
            "Interatomic Distance: 0.9 VQE Result: -15.36356 Exact Energy: -15.36382\n",
            "Interatomic Distance: 1.0 VQE Result: -15.48117 Exact Energy: -15.48142\n",
            "Interatomic Distance: 1.1 VQE Result: -15.54905 Exact Energy: -15.54932\n",
            "Interatomic Distance: 1.2 VQE Result: -15.58319 Exact Energy: -15.58348\n",
            "Interatomic Distance: 1.3 VQE Result: -15.59436 Exact Energy: -15.59471\n",
            "Interatomic Distance: 1.4 VQE Result: -15.58997 Exact Energy: -15.59040\n",
            "Interatomic Distance: 1.5 VQE Result: -15.57514 Exact Energy: -15.57571\n",
            "Interatomic Distance: 1.6 VQE Result: -15.55353 Exact Energy: -15.55428\n",
            "Interatomic Distance: 1.7 VQE Result: -15.52776 Exact Energy: -15.52878\n",
            "Interatomic Distance: 1.8 VQE Result: -15.49979 Exact Energy: -15.50121\n",
            "Interatomic Distance: 1.9 VQE Result: -15.47112 Exact Energy: -15.47312\n",
            "Interatomic Distance: 2.0 VQE Result: -15.44294 Exact Energy: -15.44576\n",
            "Interatomic Distance: 2.1 VQE Result: -15.41620 Exact Energy: -15.42019\n",
            "Interatomic Distance: 2.2 VQE Result: -15.39178 Exact Energy: -15.39730\n",
            "Interatomic Distance: 2.3 VQE Result: -15.37050 Exact Energy: -15.37788\n",
            "Interatomic Distance: 2.4 VQE Result: -15.35309 Exact Energy: -15.36254\n",
            "Interatomic Distance: 2.5 VQE Result: -15.33983 Exact Energy: -15.35149\n",
            "Interatomic Distance: 2.6 VQE Result: -15.33038 Exact Energy: -15.34436\n",
            "Interatomic Distance: 2.7 VQE Result: -15.32410 Exact Energy: -15.34021\n",
            "Interatomic Distance: 2.8 VQE Result: -15.32030 Exact Energy: -15.33801\n",
            "Interatomic Distance: 2.9 VQE Result: -15.31842 Exact Energy: -15.33693\n",
            "Interatomic Distance: 3.0 VQE Result: -15.31802 Exact Energy: -15.33646\n",
            "Interatomic Distance: 3.1 VQE Result: -15.31877 Exact Energy: -15.33629\n",
            "Interatomic Distance: 3.2 VQE Result: -15.32039 Exact Energy: -15.33627\n",
            "Interatomic Distance: 3.3 VQE Result: -15.32260 Exact Energy: -15.33630\n",
            "Interatomic Distance: 3.4 VQE Result: -15.32507 Exact Energy: -15.33635\n",
            "Interatomic Distance: 3.5 VQE Result: -15.32751 Exact Energy: -15.33639\n",
            "Interatomic Distance: 3.6 VQE Result: -15.32966 Exact Energy: -15.33643\n",
            "Interatomic Distance: 3.7 VQE Result: -15.33145 Exact Energy: -15.33646\n",
            "Interatomic Distance: 3.8 VQE Result: -15.33286 Exact Energy: -15.33648\n",
            "Interatomic Distance: 3.9 VQE Result: -15.33392 Exact Energy: -15.33649\n",
            "All energies have been calculated\n",
            "CPU times: user 1h 25min 24s, sys: 3min 21s, total: 1h 28min 45s\n",
            "Wall time: 1h 29min 56s\n"
          ]
        }
      ]
    },
    {
      "cell_type": "code",
      "source": [
        "plt.plot(distances, vqe_energies, 'o-' , label=\"VQE Energy\")\n",
        "plt.plot(distances, exact_energies, label=\"Exact Energy\")\n",
        "plt.xlabel(\"Atomic distance (Angstrom)\")\n",
        "plt.ylabel(\"Energy(Hartree)\")\n",
        "plt.title(\"$BeH_2$\")\n",
        "plt.legend()\n",
        "plt.show()"
      ],
      "metadata": {
        "colab": {
          "base_uri": "https://localhost:8080/",
          "height": 473
        },
        "id": "PKOzjGXewMT-",
        "outputId": "3e367874-4a9d-4fb7-d811-1a0a89bcfc7b"
      },
      "execution_count": null,
      "outputs": [
        {
          "output_type": "display_data",
          "data": {
            "text/plain": [
              "<Figure size 640x480 with 1 Axes>"
            ],
            "image/png": "[encoded data removed]"
          },
          "metadata": {}
        }
      ]
    },
    {
      "cell_type": "code",
      "source": [],
      "metadata": {
        "id": "_OCpgVV2wPWj"
      },
      "execution_count": null,
      "outputs": []
    }
  ]
}